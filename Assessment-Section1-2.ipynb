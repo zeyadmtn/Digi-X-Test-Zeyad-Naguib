{
  "nbformat": 4,
  "nbformat_minor": 0,
  "metadata": {
    "colab": {
      "name": "Untitled0.ipynb",
      "provenance": []
    },
    "kernelspec": {
      "name": "python3",
      "display_name": "Python 3"
    },
    "language_info": {
      "name": "python"
    }
  },
  "cells": [
    {
      "cell_type": "markdown",
      "source": [
        "# **<center>Digi-X Internship Application Assessment (Section 1 - 2)</center>**\n",
        "Name: Zeyad Mostafa Talaat Naguib\n",
        "\n",
        "Email: zeyadmtn@gmail.com\n",
        "\n",
        "Phone No: (+20) 1092723278\n",
        "\n",
        "LinkedIn: https://www.linkedin.com/in/zeyad-naguib\n",
        "\n",
        "GitHub: https://www.github.com/zeyadmtn\n",
        "\n",
        "\n"
      ],
      "metadata": {
        "id": "hncK7Dxf7aeL"
      }
    },
    {
      "cell_type": "markdown",
      "source": [
        "# **Section 1**\n",
        "*You are tasked to build an online restaurant reservation platform.*\n",
        "\n",
        "*1. Choose a front-end language/framework of your choice* \n",
        "\n",
        "*2. Choose a back-end language/framework of your choice.*\n",
        "\n",
        "*3. Choose a database management system of your choice*\n",
        "\n",
        "*Explain why you have chosen this stack?*\n",
        "\n",
        "\n",
        "\n",
        "\n",
        "\n",
        "*   Front-End: Typescript | Next.js\n",
        "*   Back-End: Typescript  | Express.js\n",
        "*   Database: MySQL\n",
        "\n",
        "### **Rationale:**\n",
        "\n",
        "####**Typescript:** \n",
        "Typescript is a superset of JavaScript with types. Typescript is widely used instead of Javascript in many situations. Typescript works great due to it's strict typing system that allows error catching at development and less runtime testing which overall speeds up the development process.\n",
        "\n",
        "\n",
        "####**Next.js:** \n",
        "Next.js is a React.js framework that has additional configurations and features from React. Next.js is a great choice to use due to it's great performance speeds and flexible UI development which leads to better user experience. In this case study, if users experience a slow performing website, they will not be returning customers. Therefore Next.js is used. One of the small cons of using Next.js is that development is required for changes to occur, in this case, not much changes are required for an online restaurant reservation system. \n",
        "\n",
        "####**Express.js:**\n",
        "Express.js is a node.js framework which simplifies much of the development processes that comes with node.js. Express.js is a great choice because it accelerates the development time due to it's simplicity and customizability. Moreover, in this case study, when/if the restauraunt does scale, they may want to implement certain features on customer bookings, that's why Express.js is great here because it provides powerful and versatile middleware for performing additional request/response tasks.\n",
        "\n",
        "####**MySQL:**\n",
        "MySQL is an open-source relational database. MySQL is known to be unmatched in scalability. In this case study, is not not clear the size of the restauraunt, it could grow to become nationwide at anytime, therefore MySQL is used to adapt to any scale that the restraunt will grow into. Furthermore, the system uses customer data and reservations which works very well with SQL databases. Using NoSQL as an example would be beneficial for other things such cataloging etc, but would not be the best choice for this case study."
      ],
      "metadata": {
        "id": "dFjaMXFHZwHx"
      }
    },
    {
      "cell_type": "markdown",
      "source": [
        "#**Section 2**\n",
        "\n",
        "\n",
        "\n",
        "###**1.   What is version control and why is it important?**\n",
        "Version control is the practice or process of controlling the versions of source code over time. It is not just important, it is absolutely necessary especially with the technology reliance in today's world. Not only is it necessary to control changes in code, but also managing changes from different developers in a development team. Version control also allows us to rollback and manage any changes to the code, so that whenever updates are made that may have created bugs or broken the system, is it very simple to rollback to previous restore points. Without version control, teams would not be able to work together simultaniously on code, updates would be incredibly difficult to rollback by manually editing back changes, etc. \n",
        "\n",
        "###**2.   List a few version control software available that is commonly used** by developers. \n",
        "Most common version control software used by developers today:\n",
        "1. Git.\n",
        "2. CVS\n",
        "3. Apache Subversion (SVN)\n",
        "4. Mercurial\n",
        "5. Monotone.\n",
        "\n",
        "Each of these version control software has pros and cons and when developers choose one they conduct an analysis and decide based on which one fits their project best. However, the most commonly used version control software by a large margin is Git.\n",
        "\n",
        "Version control software works by creating local repositories and storing versions in these repositories. The method by which each version control software processes these, however, are different depending on the software (ex, CSV uses RCS-based processing, SVN uses xdelta algorithm, etc).\n",
        "\n",
        "Usually when working with version control software, developers also work with a cloud repository hosting system to host their local repositories online and work with teams.\n",
        "\n",
        "Most common version control platforms used by developers today:\n",
        "1. GitHub\n",
        "2. GitLab\n",
        "3. SourceForge\n",
        "4. AWSCodeCommit\n",
        "5. Beanstalk\n",
        "\n",
        "\n",
        "###**3.   How would this version control software help developers?**\n",
        "Version control software helps developers in every aspect.\n",
        "\n",
        "####**Individial**\n",
        "Version control helps each developer integrate miniscule features and code functions one by one while controlling each version to ensure nothing goes wrong and if it does, they can rollback and re-try, which saves an incredible amount of time and effort. It also allows each developer to not take up much time or effort in working with their teams but rather focus on teamwork and coding.\n",
        "\n",
        "####**Team**\n",
        "Version control helps developers work together simultaniously. Without version control, it is incredibly difficult to work on the same code at the same time, with version control it is possible. All they need to do is simply merge their codes afterwards and manage any conflict beforehand in a very simple process.\n",
        "\n",
        "####**Testing**\n",
        "Version control allows for very efficient testing and prototyping. With branching for example, a developer needs only to create a new branch where they can test out any code they want to, or create feature prototypes to test, until it is 100% functional then they can very simply merge into the master branch. It is common practice to use branches to implmenet features as to avoid issues with merging with master branches.\n",
        "\n",
        "\n"
      ],
      "metadata": {
        "id": "A44g2U76k3lm"
      }
    },
    {
      "cell_type": "code",
      "source": [
        ""
      ],
      "metadata": {
        "id": "CdHKKaJf1etR"
      },
      "execution_count": null,
      "outputs": []
    }
  ]
}